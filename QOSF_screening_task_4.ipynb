{
  "nbformat": 4,
  "nbformat_minor": 0,
  "metadata": {
    "colab": {
      "provenance": [],
      "authorship_tag": "ABX9TyNbBwugdVjMNqHCLU4Yue0N",
      "include_colab_link": true
    },
    "kernelspec": {
      "name": "python3",
      "display_name": "Python 3"
    },
    "language_info": {
      "name": "python"
    }
  },
  "cells": [
    {
      "cell_type": "markdown",
      "metadata": {
        "id": "view-in-github",
        "colab_type": "text"
      },
      "source": [
        "<a href=\"https://colab.research.google.com/github/jpherrerap/qosf-screening/blob/main/QOSF_screening_task_4.ipynb\" target=\"_parent\"><img src=\"https://colab.research.google.com/assets/colab-badge.svg\" alt=\"Open In Colab\"/></a>"
      ]
    },
    {
      "cell_type": "code",
      "source": [
        "!pip install qiskit qiskit_aer qiskit_ibm_runtime"
      ],
      "metadata": {
        "colab": {
          "base_uri": "https://localhost:8080/"
        },
        "id": "KsQlFcyQvqBa",
        "outputId": "c1228262-8446-40a5-a812-08224bd65eda"
      },
      "execution_count": null,
      "outputs": [
        {
          "output_type": "stream",
          "name": "stdout",
          "text": [
            "Requirement already satisfied: qiskit in /usr/local/lib/python3.10/dist-packages (1.2.4)\n",
            "Requirement already satisfied: qiskit_aer in /usr/local/lib/python3.10/dist-packages (0.15.1)\n",
            "Requirement already satisfied: qiskit_ibm_runtime in /usr/local/lib/python3.10/dist-packages (0.33.1)\n",
            "Requirement already satisfied: rustworkx>=0.15.0 in /usr/local/lib/python3.10/dist-packages (from qiskit) (0.15.1)\n",
            "Requirement already satisfied: numpy<3,>=1.17 in /usr/local/lib/python3.10/dist-packages (from qiskit) (1.26.4)\n",
            "Requirement already satisfied: scipy>=1.5 in /usr/local/lib/python3.10/dist-packages (from qiskit) (1.13.1)\n",
            "Requirement already satisfied: sympy>=1.3 in /usr/local/lib/python3.10/dist-packages (from qiskit) (1.13.1)\n",
            "Requirement already satisfied: dill>=0.3 in /usr/local/lib/python3.10/dist-packages (from qiskit) (0.3.9)\n",
            "Requirement already satisfied: python-dateutil>=2.8.0 in /usr/local/lib/python3.10/dist-packages (from qiskit) (2.8.2)\n",
            "Requirement already satisfied: stevedore>=3.0.0 in /usr/local/lib/python3.10/dist-packages (from qiskit) (5.3.0)\n",
            "Requirement already satisfied: typing-extensions in /usr/local/lib/python3.10/dist-packages (from qiskit) (4.12.2)\n",
            "Requirement already satisfied: symengine<0.14,>=0.11 in /usr/local/lib/python3.10/dist-packages (from qiskit) (0.13.0)\n",
            "Requirement already satisfied: psutil>=5 in /usr/local/lib/python3.10/dist-packages (from qiskit_aer) (5.9.5)\n",
            "Requirement already satisfied: requests>=2.19 in /usr/local/lib/python3.10/dist-packages (from qiskit_ibm_runtime) (2.32.3)\n",
            "Requirement already satisfied: requests-ntlm>=1.1.0 in /usr/local/lib/python3.10/dist-packages (from qiskit_ibm_runtime) (1.3.0)\n",
            "Requirement already satisfied: urllib3>=1.21.1 in /usr/local/lib/python3.10/dist-packages (from qiskit_ibm_runtime) (2.2.3)\n",
            "Requirement already satisfied: websocket-client>=1.5.1 in /usr/local/lib/python3.10/dist-packages (from qiskit_ibm_runtime) (1.8.0)\n",
            "Requirement already satisfied: ibm-platform-services>=0.22.6 in /usr/local/lib/python3.10/dist-packages (from qiskit_ibm_runtime) (0.59.0)\n",
            "Requirement already satisfied: pydantic>=2.5.0 in /usr/local/lib/python3.10/dist-packages (from qiskit_ibm_runtime) (2.9.2)\n",
            "Requirement already satisfied: ibm-cloud-sdk-core<4.0.0,>=3.22.0 in /usr/local/lib/python3.10/dist-packages (from ibm-platform-services>=0.22.6->qiskit_ibm_runtime) (3.22.0)\n",
            "Requirement already satisfied: annotated-types>=0.6.0 in /usr/local/lib/python3.10/dist-packages (from pydantic>=2.5.0->qiskit_ibm_runtime) (0.7.0)\n",
            "Requirement already satisfied: pydantic-core==2.23.4 in /usr/local/lib/python3.10/dist-packages (from pydantic>=2.5.0->qiskit_ibm_runtime) (2.23.4)\n",
            "Requirement already satisfied: six>=1.5 in /usr/local/lib/python3.10/dist-packages (from python-dateutil>=2.8.0->qiskit) (1.16.0)\n",
            "Requirement already satisfied: charset-normalizer<4,>=2 in /usr/local/lib/python3.10/dist-packages (from requests>=2.19->qiskit_ibm_runtime) (3.4.0)\n",
            "Requirement already satisfied: idna<4,>=2.5 in /usr/local/lib/python3.10/dist-packages (from requests>=2.19->qiskit_ibm_runtime) (3.10)\n",
            "Requirement already satisfied: certifi>=2017.4.17 in /usr/local/lib/python3.10/dist-packages (from requests>=2.19->qiskit_ibm_runtime) (2024.8.30)\n",
            "Requirement already satisfied: cryptography>=1.3 in /usr/local/lib/python3.10/dist-packages (from requests-ntlm>=1.1.0->qiskit_ibm_runtime) (43.0.3)\n",
            "Requirement already satisfied: pyspnego>=0.4.0 in /usr/local/lib/python3.10/dist-packages (from requests-ntlm>=1.1.0->qiskit_ibm_runtime) (0.11.1)\n",
            "Requirement already satisfied: pbr>=2.0.0 in /usr/local/lib/python3.10/dist-packages (from stevedore>=3.0.0->qiskit) (6.1.0)\n",
            "Requirement already satisfied: mpmath<1.4,>=1.1.0 in /usr/local/lib/python3.10/dist-packages (from sympy>=1.3->qiskit) (1.3.0)\n",
            "Requirement already satisfied: cffi>=1.12 in /usr/local/lib/python3.10/dist-packages (from cryptography>=1.3->requests-ntlm>=1.1.0->qiskit_ibm_runtime) (1.17.1)\n",
            "Requirement already satisfied: PyJWT<3.0.0,>=2.8.0 in /usr/local/lib/python3.10/dist-packages (from ibm-cloud-sdk-core<4.0.0,>=3.22.0->ibm-platform-services>=0.22.6->qiskit_ibm_runtime) (2.9.0)\n",
            "Requirement already satisfied: pycparser in /usr/local/lib/python3.10/dist-packages (from cffi>=1.12->cryptography>=1.3->requests-ntlm>=1.1.0->qiskit_ibm_runtime) (2.22)\n"
          ]
        }
      ]
    },
    {
      "cell_type": "code",
      "source": [
        "!pip install pylatexenc scipy matplotlib"
      ],
      "metadata": {
        "colab": {
          "base_uri": "https://localhost:8080/"
        },
        "id": "4KcNp7yXzP3i",
        "outputId": "697c8832-08c5-48df-9c75-5b42cc2aaff8"
      },
      "execution_count": null,
      "outputs": [
        {
          "output_type": "stream",
          "name": "stdout",
          "text": [
            "Requirement already satisfied: pylatexenc in /usr/local/lib/python3.10/dist-packages (2.10)\n",
            "Requirement already satisfied: scipy in /usr/local/lib/python3.10/dist-packages (1.13.1)\n",
            "Requirement already satisfied: matplotlib in /usr/local/lib/python3.10/dist-packages (3.8.0)\n",
            "Requirement already satisfied: numpy<2.3,>=1.22.4 in /usr/local/lib/python3.10/dist-packages (from scipy) (1.26.4)\n",
            "Requirement already satisfied: contourpy>=1.0.1 in /usr/local/lib/python3.10/dist-packages (from matplotlib) (1.3.0)\n",
            "Requirement already satisfied: cycler>=0.10 in /usr/local/lib/python3.10/dist-packages (from matplotlib) (0.12.1)\n",
            "Requirement already satisfied: fonttools>=4.22.0 in /usr/local/lib/python3.10/dist-packages (from matplotlib) (4.54.1)\n",
            "Requirement already satisfied: kiwisolver>=1.0.1 in /usr/local/lib/python3.10/dist-packages (from matplotlib) (1.4.7)\n",
            "Requirement already satisfied: packaging>=20.0 in /usr/local/lib/python3.10/dist-packages (from matplotlib) (24.1)\n",
            "Requirement already satisfied: pillow>=6.2.0 in /usr/local/lib/python3.10/dist-packages (from matplotlib) (10.4.0)\n",
            "Requirement already satisfied: pyparsing>=2.3.1 in /usr/local/lib/python3.10/dist-packages (from matplotlib) (3.2.0)\n",
            "Requirement already satisfied: python-dateutil>=2.7 in /usr/local/lib/python3.10/dist-packages (from matplotlib) (2.8.2)\n",
            "Requirement already satisfied: six>=1.5 in /usr/local/lib/python3.10/dist-packages (from python-dateutil>=2.7->matplotlib) (1.16.0)\n"
          ]
        }
      ]
    },
    {
      "cell_type": "code",
      "execution_count": null,
      "metadata": {
        "id": "3zIJZSqkvWrj"
      },
      "outputs": [],
      "source": [
        "import numpy as np\n",
        "from qiskit import QuantumCircuit\n",
        "from qiskit_aer import AerSimulator\n",
        "from qiskit.visualization import plot_histogram\n",
        "from qiskit.quantum_info import Statevector\n",
        "from qiskit_aer.noise import (NoiseModel, QuantumError, ReadoutError,\n",
        "    pauli_error)"
      ]
    },
    {
      "cell_type": "markdown",
      "source": [
        "## Decomposition"
      ],
      "metadata": {
        "id": "UlGqMhbdOIEl"
      }
    },
    {
      "cell_type": "markdown",
      "source": [
        "Here we construct our own quantum circuit that gives the following vector."
      ],
      "metadata": {
        "id": "BmbiZ_-8Ty6u"
      }
    },
    {
      "cell_type": "code",
      "source": [
        "size = 5\n",
        "state_values = [22,17,27,12]\n",
        "state_vector = [0]*2**size\n",
        "for s in state_values:\n",
        "   print(np.binary_repr(s,size))\n",
        "   state_vector[s] = 0.5\n",
        "np.asarray(state_vector)\n"
      ],
      "metadata": {
        "colab": {
          "base_uri": "https://localhost:8080/"
        },
        "id": "kyz7TMg-OKId",
        "outputId": "ca7f6cb2-e4c7-4f30-d565-1136e9553aac"
      },
      "execution_count": null,
      "outputs": [
        {
          "output_type": "stream",
          "name": "stdout",
          "text": [
            "10110\n",
            "10001\n",
            "11011\n",
            "01100\n"
          ]
        },
        {
          "output_type": "execute_result",
          "data": {
            "text/plain": [
              "array([0. , 0. , 0. , 0. , 0. , 0. , 0. , 0. , 0. , 0. , 0. , 0. , 0.5,\n",
              "       0. , 0. , 0. , 0. , 0.5, 0. , 0. , 0. , 0. , 0.5, 0. , 0. , 0. ,\n",
              "       0. , 0.5, 0. , 0. , 0. , 0. ])"
            ]
          },
          "metadata": {},
          "execution_count": 206
        }
      ]
    },
    {
      "cell_type": "code",
      "source": [
        "Statevector(np.asarray(state_vector)).draw('latex')"
      ],
      "metadata": {
        "colab": {
          "base_uri": "https://localhost:8080/",
          "height": 38
        },
        "id": "vy8hs3vUOS57",
        "outputId": "a7cea878-7cfa-4b7c-e60a-e9f8b09f537f"
      },
      "execution_count": null,
      "outputs": [
        {
          "output_type": "execute_result",
          "data": {
            "text/plain": [
              "<IPython.core.display.Latex object>"
            ],
            "text/latex": "$$\\frac{1}{2} |01100\\rangle+\\frac{1}{2} |10001\\rangle+\\frac{1}{2} |10110\\rangle+\\frac{1}{2} |11011\\rangle$$"
          },
          "metadata": {},
          "execution_count": 279
        }
      ]
    },
    {
      "cell_type": "markdown",
      "source": [
        "```\n",
        "0 1 1 1\n",
        "1 0 0 1\n",
        "1 0 1 0\n",
        "0 0 1 1\n",
        "0 1 0 1\n",
        "```\n",
        "\n"
      ],
      "metadata": {
        "id": "rmwRJrb0cMy3"
      }
    },
    {
      "cell_type": "code",
      "source": [
        "xqc = QuantumCircuit(1)\n",
        "xqc.x(0)\n",
        "xqc.h(0)\n",
        "Statevector(xqc).draw('latex')"
      ],
      "metadata": {
        "colab": {
          "base_uri": "https://localhost:8080/",
          "height": 40
        },
        "id": "4CLLukUNcLvq",
        "outputId": "136ab101-5dc4-4763-fbe7-572293f71541"
      },
      "execution_count": null,
      "outputs": [
        {
          "output_type": "execute_result",
          "data": {
            "text/plain": [
              "<IPython.core.display.Latex object>"
            ],
            "text/latex": "$$\\frac{\\sqrt{2}}{2} |0\\rangle- \\frac{\\sqrt{2}}{2} |1\\rangle$$"
          },
          "metadata": {},
          "execution_count": 259
        }
      ]
    },
    {
      "cell_type": "code",
      "source": [
        "my_qc = QuantumCircuit(5)\n",
        "\n",
        "my_qc.h(0)\n",
        "my_qc.cx(0, 1)\n",
        "my_qc.h(1)\n",
        "\n",
        "# We can derive a logical relation of the bits by hand\n",
        "\n",
        "# Set q2 = NOT q0\n",
        "# First copy q0 into q4 (since q4 is |0⟩), then into q2 and apply X gate\n",
        "my_qc.cx(0, 4)\n",
        "my_qc.cx(4, 2)\n",
        "my_qc.x(2)\n",
        "\n",
        "# Set q3 = NOT ( CNOT (1, 4))\n",
        "# CX q1 and q4, then \"copy\" to q3 and apply X gate\n",
        "my_qc.cx(1, 4)\n",
        "my_qc.cx(4, 3)\n",
        "my_qc.x(3)\n",
        "\n",
        "\n",
        "# my_qc.cx(1, 3)\n",
        "# Reverse the operations on q4\n",
        "my_qc.cx(1, 4)\n",
        "my_qc.cx(0, 4)\n",
        "\n",
        "# Set q4 = NOT ( AND (q2, q3))\n",
        "# This is harder to do, but possible with 6 CNOTS\n",
        "# This is inspired by https://www.semanticscholar.org/paper/On-the-CNOT-cost-of-TOFFOLI-gates-Shende-Markov/c7011bd2c3eb2dbd4e8879ffb9803dc221c17c09\n",
        "my_qc.barrier()\n",
        "# my_qc.ccx(3, 2, 4)\n",
        "my_qc.h(4)\n",
        "\n",
        "my_qc.cx(3, 4)\n",
        "my_qc.rz(-np.pi/4, 4)\n",
        "my_qc.cx(2, 4)\n",
        "my_qc.rz(np.pi/4, 4)\n",
        "\n",
        "my_qc.cx(3, 4)\n",
        "my_qc.rz(np.pi/4, 3)\n",
        "my_qc.rz(-np.pi/4, 4)\n",
        "my_qc.cx(2, 4)\n",
        "my_qc.rz(np.pi/4, 4)\n",
        "\n",
        "my_qc.h(4)\n",
        "\n",
        "my_qc.cx(2, 3)\n",
        "my_qc.rz(-np.pi/4, 3)\n",
        "my_qc.rz(np.pi/4, 2)\n",
        "my_qc.cx(2, 3)\n",
        "my_qc.rz(-np.pi/4, 2)\n",
        "\n",
        "my_qc.x(4)\n",
        "my_qc.barrier()\n",
        "\n",
        "# We still have a negative sign in one of the amplitudes, we can fix that with some RZ and CNOT gates\n",
        "my_qc.rz(np.pi, 0)\n",
        "my_qc.rz(np.pi, 1)\n",
        "\n",
        "my_qc.rz(np.pi/2, 3)\n",
        "my_qc.x(4)\n",
        "my_qc.cx(4, 3)\n",
        "my_qc.rz(-np.pi/2, 3)\n",
        "my_qc.cx(4, 3)\n",
        "my_qc.rz(np.pi/2, 3)\n",
        "my_qc.cx(4, 3)\n",
        "my_qc.rz(-np.pi/2, 3)\n",
        "my_qc.cx(4, 3)\n",
        "my_qc.x(4)\n",
        "\n",
        "\n",
        "## Unfortunately we still have a global phase\n",
        "## An idea to negate this is to use crz gates, and decompose them into rz and cx\n",
        "# my_qc.x(0)\n",
        "# my_qc.crz(np.pi / 4, 0, 1)\n",
        "# my_qc.crz(np.pi / 4, 0, 2)\n",
        "# my_qc.crz(np.pi / 4, 0, 3)\n",
        "# my_qc.crz(np.pi / 4, 0, 4)\n",
        "# my_qc.x(0)\n",
        "# my_qc.global_phase = -15*np.pi/8\n",
        "\n",
        "\n",
        "# Statevector(my_qc).draw('latex')\n",
        "my_qc.draw('mpl', fold=-1)"
      ],
      "metadata": {
        "colab": {
          "base_uri": "https://localhost:8080/",
          "height": 254
        },
        "id": "pUy1yfvhX4VV",
        "outputId": "4409df1a-f48e-4255-dc84-9b71b9eddcba"
      },
      "execution_count": null,
      "outputs": [
        {
          "output_type": "execute_result",
          "data": {
            "text/plain": [
              "<Figure size 2963.05x451.5 with 1 Axes>"
            ],
            "image/png": "[encoded data removed]"
          },
          "metadata": {},
          "execution_count": 510
        }
      ]
    },
    {
      "cell_type": "code",
      "source": [
        "Statevector(my_qc).draw('latex')"
      ],
      "metadata": {
        "colab": {
          "base_uri": "https://localhost:8080/",
          "height": 40
        },
        "id": "MCwZICTgJ6nN",
        "outputId": "5d9d40a6-97d3-4b89-8442-eae7ddc85413"
      },
      "execution_count": null,
      "outputs": [
        {
          "output_type": "execute_result",
          "data": {
            "text/plain": [
              "<IPython.core.display.Latex object>"
            ],
            "text/latex": "$$(\\frac{\\sqrt{2}}{4} - \\frac{\\sqrt{2} i}{4}) |01100\\rangle+\\frac{1}{2} |10001\\rangle+(\\frac{\\sqrt{2}}{4} - \\frac{\\sqrt{2} i}{4}) |10110\\rangle+\\frac{1}{2} |11011\\rangle$$"
          },
          "metadata": {},
          "execution_count": 511
        }
      ]
    },
    {
      "cell_type": "code",
      "source": [
        "Statevector(np.asarray(state_vector)).draw('latex')"
      ],
      "metadata": {
        "colab": {
          "base_uri": "https://localhost:8080/",
          "height": 38
        },
        "id": "FQ3vSGSVtH-i",
        "outputId": "b013adec-a24b-4c10-8749-729792da5832"
      },
      "execution_count": null,
      "outputs": [
        {
          "output_type": "execute_result",
          "data": {
            "text/plain": [
              "<IPython.core.display.Latex object>"
            ],
            "text/latex": "$$\\frac{1}{2} |01100\\rangle+\\frac{1}{2} |10001\\rangle+\\frac{1}{2} |10110\\rangle+\\frac{1}{2} |11011\\rangle$$"
          },
          "metadata": {},
          "execution_count": 399
        }
      ]
    },
    {
      "cell_type": "code",
      "source": [
        "my_qc = QuantumCircuit(5)\n",
        "for i in range(5):\n",
        "    my_qc.h(i)\n",
        "my_qc.draw('mpl')"
      ],
      "metadata": {
        "id": "HwLJasdvZsNr"
      },
      "execution_count": null,
      "outputs": []
    },
    {
      "cell_type": "code",
      "source": [
        "my_qc.depth()"
      ],
      "metadata": {
        "colab": {
          "base_uri": "https://localhost:8080/"
        },
        "id": "k2kS5wel7ZjO",
        "outputId": "388babcc-b4ae-4c90-dc5b-7c82f8a63cb0"
      },
      "execution_count": null,
      "outputs": [
        {
          "output_type": "execute_result",
          "data": {
            "text/plain": [
              "29"
            ]
          },
          "metadata": {},
          "execution_count": 512
        }
      ]
    },
    {
      "cell_type": "code",
      "source": [],
      "metadata": {
        "id": "uVgScsUBYFni"
      },
      "execution_count": null,
      "outputs": []
    },
    {
      "cell_type": "markdown",
      "source": [],
      "metadata": {
        "id": "Hh7a_Es-UJBr"
      }
    }
  ]
}